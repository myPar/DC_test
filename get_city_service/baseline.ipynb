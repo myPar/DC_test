{
 "cells": [
  {
   "cell_type": "code",
   "execution_count": 252,
   "metadata": {
    "collapsed": true,
    "pycharm": {
     "name": "#%%\n"
    }
   },
   "outputs": [],
   "source": [
    "import pandas as pd\n",
    "import numpy as np\n",
    "import os"
   ]
  },
  {
   "cell_type": "code",
   "execution_count": 253,
   "outputs": [],
   "source": [
    "datasets_dir = 'data/'\n",
    "datasets_files_names = os.listdir(datasets_dir)\n",
    "datasets_files_names.remove('data.csv')\n",
    "countries = [name.split('_')[0] for name in datasets_files_names]"
   ],
   "metadata": {
    "collapsed": false,
    "pycharm": {
     "name": "#%%\n"
    }
   }
  },
  {
   "cell_type": "code",
   "execution_count": 254,
   "outputs": [],
   "source": [
    "for dataset_name in datasets_files_names:\n",
    "    full_name = datasets_dir + dataset_name\n",
    "    df = pd.read_csv(full_name)\n",
    "\n",
    "    df = df[df['name'].apply(lambda x: len(x) > 3)]\n",
    "    df.to_csv(datasets_dir + dataset_name, index=False)"
   ],
   "metadata": {
    "collapsed": false,
    "pycharm": {
     "name": "#%%\n"
    }
   }
  },
  {
   "cell_type": "code",
   "execution_count": 255,
   "outputs": [],
   "source": [
    "def get_country_cities_df(country_name: str):\n",
    "    file_name = country_name + \"_cities.csv\"\n",
    "\n",
    "    if os.path.isfile(datasets_dir + file_name):\n",
    "        return pd.read_csv(datasets_dir + file_name)\n",
    "    else:\n",
    "        raise Exception(f\"No file with such name '{file_name}' exists\")\n",
    "\n",
    "def get_all_cities_df():\n",
    "    result_df = pd.DataFrame({})\n",
    "\n",
    "    for country in countries:\n",
    "        result_df = pd.concat([result_df, get_country_cities_df(country)], ignore_index=True)\n",
    "\n",
    "    return result_df"
   ],
   "metadata": {
    "collapsed": false,
    "pycharm": {
     "name": "#%%\n"
    }
   }
  },
  {
   "cell_type": "code",
   "execution_count": 256,
   "outputs": [],
   "source": [
    "additional_names_dict = dict({\n",
    "    'МСК': 'Москва',\n",
    "    'СПБ': 'Санкт-Петербург',\n",
    "    'Питер': 'Санкт-Петербург',\n",
    "    'Питербург': 'Санкт-Петербург',\n",
    "    'НСК': 'Новосибирск',\n",
    "    'Сиб': 'Новосибирск',\n",
    "    'Новосиб': 'Новосибирск',\n",
    "    'ЕКБ': 'Екатеринбург',\n",
    "    'Нижний': 'Нижний Новгород',\n",
    "    'Нижнем': 'Нижний Новгород',\n",
    "    'Тагил': 'Нижний Тагил',\n",
    "    'АСТ': 'Астана',\n",
    "    'АЛМ': 'Алматы',\n",
    "    'Семей': 'Семипалатинск'\n",
    "})"
   ],
   "metadata": {
    "collapsed": false,
    "pycharm": {
     "name": "#%%\n"
    }
   }
  },
  {
   "cell_type": "code",
   "execution_count": 257,
   "outputs": [
    {
     "name": "stdout",
     "output_type": "stream",
     "text": [
      "Нижний Тагил\n"
     ]
    }
   ],
   "source": [
    "import re\n",
    "\n",
    "\n",
    "def get_tokens(text: str):\n",
    "    pattern = re.compile(r'\\b[А-Яа-я]+\\b')  # bounded word regex pattern\n",
    "\n",
    "    return pattern.findall(text)\n",
    "\n",
    "\n",
    "def calc_hamming_dist(string1: str, string2: str):\n",
    "    len1 = len(string1)\n",
    "    len2 = len(string2)\n",
    "\n",
    "    min_len = min(len1, len2)\n",
    "    max_len = max(len1, len2)\n",
    "    delta = max_len - min_len\n",
    "    dist = 0\n",
    "\n",
    "    for i in range(min_len):\n",
    "        if string1[i] != string2[i]:\n",
    "            dist += 1\n",
    "\n",
    "    dist += delta\n",
    "\n",
    "    return dist\n",
    "\n",
    "# search name is in lower case!\n",
    "def find_by_name(search_name: str, cities_array: np.array):\n",
    "    for city in cities_array:\n",
    "        lower_city = city.lower()\n",
    "\n",
    "        if search_name == lower_city:\n",
    "            return city\n",
    "\n",
    "    # check additional names dict\n",
    "    for additional_name in additional_names_dict:\n",
    "        if search_name == additional_name.lower():\n",
    "            return additional_names_dict[additional_name]\n",
    "\n",
    "    return None\n",
    "\n",
    "# search name is in lower case!\n",
    "def find_by_min_hamming_dist(search_name: str, cities_array: np.array):\n",
    "    min_dist = 1024\n",
    "    most_similar = None\n",
    "\n",
    "    for city in cities_array:\n",
    "        lower_city = city.lower()\n",
    "        cur_dist = calc_hamming_dist(search_name, lower_city)\n",
    "\n",
    "        if cur_dist < min_dist:\n",
    "            min_dist = cur_dist\n",
    "            most_similar = city\n",
    "\n",
    "    for additional_name in additional_names_dict:\n",
    "        additional_name_lower = additional_name.lower()\n",
    "        cur_dist = calc_hamming_dist(search_name, additional_name_lower)\n",
    "\n",
    "        if cur_dist < min_dist:\n",
    "            min_dist = cur_dist\n",
    "            most_similar = additional_names_dict[additional_name]   # get full city name by additional name\n",
    "\n",
    "    return most_similar, min_dist\n",
    "\n",
    "\n",
    "# 1 - use complete matching\n",
    "# 2 - if don't work - see min hamming distance\n",
    "def find_city(message_text: str, country: str = None) -> str:\n",
    "    if country is None:\n",
    "        # select all cities\n",
    "        cities_df = get_all_cities_df()\n",
    "    else:\n",
    "        if country not in countries:\n",
    "            raise Exception(f\"No country with such name - '{country}', select one of supported - {countries}\")\n",
    "        cities_df = get_country_cities_df(country)\n",
    "\n",
    "    city_names_list = cities_df['name'].to_numpy()\n",
    "    text_tokens = get_tokens(message_text.lower())\n",
    "\n",
    "    # 1. find by complete matching:\n",
    "\n",
    "    for token in text_tokens:\n",
    "        result = find_by_name(token, city_names_list)\n",
    "\n",
    "        if result is not None:\n",
    "            return result\n",
    "\n",
    "    # 2. no matches on the previous step - use min hamming distance:\n",
    "    min_dist = 1024\n",
    "    result = None\n",
    "\n",
    "    for token in text_tokens:\n",
    "        most_similar, cur_dist = find_by_min_hamming_dist(token, city_names_list)\n",
    "\n",
    "        if cur_dist < min_dist:\n",
    "            min_dist = cur_dist\n",
    "            result = most_similar\n",
    "\n",
    "    return result\n",
    "\n",
    "text = \"Привет, нужно срочно заказать цветы на день рождения друга в Тагиле, вы сможете помочь?\"\n",
    "result = find_city(text, 'russia')\n",
    "print(result)"
   ],
   "metadata": {
    "collapsed": false,
    "pycharm": {
     "name": "#%%\n"
    }
   }
  },
  {
   "cell_type": "code",
   "execution_count": 258,
   "outputs": [
    {
     "name": "stdout",
     "output_type": "stream",
     "text": [
      "Санкт-Петербург\n"
     ]
    }
   ],
   "source": [
    "text = \"Привет, нужно срочно заказать цветы на день рождения друга в Питере, вы сможете помочь?\"\n",
    "result = find_city(text, 'russia')\n",
    "print(result)"
   ],
   "metadata": {
    "collapsed": false,
    "pycharm": {
     "name": "#%%\n"
    }
   }
  },
  {
   "cell_type": "code",
   "execution_count": 259,
   "outputs": [
    {
     "data": {
      "text/plain": "                                               message\n0    Привет! Я хочу заказать букет роз доставить в ...\n1    Привет, хочу заказать доставку цветов в Новоси...\n2    Здравствуйте, сколько стоит доставка цветов в ...\n3    Здравствуйте, сколько стоит доставка цветов в ...\n4    Привет! Хочу заказать цветы на день рождения п...\n..                                                 ...\n115  Привет, доставите букет роз в г. екат? Срочно ...\n116  Привет, сколько стоит доставка цветов в г. ниж...\n117  Хочу цветы в Новосибирске. Скорее быстро сдела...\n118  Здравствуйте! Хочу заказать букет роз с достав...\n119  Здравствуйте. Я хочу заказать цветы в Москву н...\n\n[120 rows x 1 columns]",
      "text/html": "<div>\n<style scoped>\n    .dataframe tbody tr th:only-of-type {\n        vertical-align: middle;\n    }\n\n    .dataframe tbody tr th {\n        vertical-align: top;\n    }\n\n    .dataframe thead th {\n        text-align: right;\n    }\n</style>\n<table border=\"1\" class=\"dataframe\">\n  <thead>\n    <tr style=\"text-align: right;\">\n      <th></th>\n      <th>message</th>\n    </tr>\n  </thead>\n  <tbody>\n    <tr>\n      <th>0</th>\n      <td>Привет! Я хочу заказать букет роз доставить в ...</td>\n    </tr>\n    <tr>\n      <th>1</th>\n      <td>Привет, хочу заказать доставку цветов в Новоси...</td>\n    </tr>\n    <tr>\n      <th>2</th>\n      <td>Здравствуйте, сколько стоит доставка цветов в ...</td>\n    </tr>\n    <tr>\n      <th>3</th>\n      <td>Здравствуйте, сколько стоит доставка цветов в ...</td>\n    </tr>\n    <tr>\n      <th>4</th>\n      <td>Привет! Хочу заказать цветы на день рождения п...</td>\n    </tr>\n    <tr>\n      <th>...</th>\n      <td>...</td>\n    </tr>\n    <tr>\n      <th>115</th>\n      <td>Привет, доставите букет роз в г. екат? Срочно ...</td>\n    </tr>\n    <tr>\n      <th>116</th>\n      <td>Привет, сколько стоит доставка цветов в г. ниж...</td>\n    </tr>\n    <tr>\n      <th>117</th>\n      <td>Хочу цветы в Новосибирске. Скорее быстро сдела...</td>\n    </tr>\n    <tr>\n      <th>118</th>\n      <td>Здравствуйте! Хочу заказать букет роз с достав...</td>\n    </tr>\n    <tr>\n      <th>119</th>\n      <td>Здравствуйте. Я хочу заказать цветы в Москву н...</td>\n    </tr>\n  </tbody>\n</table>\n<p>120 rows × 1 columns</p>\n</div>"
     },
     "execution_count": 259,
     "metadata": {},
     "output_type": "execute_result"
    }
   ],
   "source": [
    "test_df = pd.read_csv(datasets_dir + \"data.csv\")\n",
    "test_df.drop(['Unnamed: 0'], axis=1, inplace=True)\n",
    "test_df"
   ],
   "metadata": {
    "collapsed": false,
    "pycharm": {
     "name": "#%%\n"
    }
   }
  },
  {
   "cell_type": "code",
   "execution_count": 260,
   "outputs": [],
   "source": [
    "messages = test_df['message'].to_numpy()\n",
    "cities = []\n",
    "\n",
    "for message in messages:\n",
    "    cities.append(find_city(message))\n",
    "\n",
    "cities = np.array(cities)\n",
    "test_df['city'] = cities"
   ],
   "metadata": {
    "collapsed": false,
    "pycharm": {
     "name": "#%%\n"
    }
   }
  },
  {
   "cell_type": "code",
   "execution_count": 261,
   "outputs": [
    {
     "data": {
      "text/plain": "                                               message             city\n0    Привет! Я хочу заказать букет роз доставить в ...  Санкт-Петербург\n1    Привет, хочу заказать доставку цветов в Новоси...      Новосибирск\n2    Здравствуйте, сколько стоит доставка цветов в ...     Екатеринбург\n3    Здравствуйте, сколько стоит доставка цветов в ...     Екатеринбург\n4    Привет! Хочу заказать цветы на день рождения п...      Новосибирск\n..                                                 ...              ...\n115  Привет, доставите букет роз в г. екат? Срочно ...            Бурея\n116  Привет, сколько стоит доставка цветов в г. ниж...  Нижний Новгород\n117  Хочу цветы в Новосибирске. Скорее быстро сдела...      Новосибирск\n118  Здравствуйте! Хочу заказать букет роз с достав...           Алматы\n119  Здравствуйте. Я хочу заказать цветы в Москву н...           Москва\n\n[120 rows x 2 columns]",
      "text/html": "<div>\n<style scoped>\n    .dataframe tbody tr th:only-of-type {\n        vertical-align: middle;\n    }\n\n    .dataframe tbody tr th {\n        vertical-align: top;\n    }\n\n    .dataframe thead th {\n        text-align: right;\n    }\n</style>\n<table border=\"1\" class=\"dataframe\">\n  <thead>\n    <tr style=\"text-align: right;\">\n      <th></th>\n      <th>message</th>\n      <th>city</th>\n    </tr>\n  </thead>\n  <tbody>\n    <tr>\n      <th>0</th>\n      <td>Привет! Я хочу заказать букет роз доставить в ...</td>\n      <td>Санкт-Петербург</td>\n    </tr>\n    <tr>\n      <th>1</th>\n      <td>Привет, хочу заказать доставку цветов в Новоси...</td>\n      <td>Новосибирск</td>\n    </tr>\n    <tr>\n      <th>2</th>\n      <td>Здравствуйте, сколько стоит доставка цветов в ...</td>\n      <td>Екатеринбург</td>\n    </tr>\n    <tr>\n      <th>3</th>\n      <td>Здравствуйте, сколько стоит доставка цветов в ...</td>\n      <td>Екатеринбург</td>\n    </tr>\n    <tr>\n      <th>4</th>\n      <td>Привет! Хочу заказать цветы на день рождения п...</td>\n      <td>Новосибирск</td>\n    </tr>\n    <tr>\n      <th>...</th>\n      <td>...</td>\n      <td>...</td>\n    </tr>\n    <tr>\n      <th>115</th>\n      <td>Привет, доставите букет роз в г. екат? Срочно ...</td>\n      <td>Бурея</td>\n    </tr>\n    <tr>\n      <th>116</th>\n      <td>Привет, сколько стоит доставка цветов в г. ниж...</td>\n      <td>Нижний Новгород</td>\n    </tr>\n    <tr>\n      <th>117</th>\n      <td>Хочу цветы в Новосибирске. Скорее быстро сдела...</td>\n      <td>Новосибирск</td>\n    </tr>\n    <tr>\n      <th>118</th>\n      <td>Здравствуйте! Хочу заказать букет роз с достав...</td>\n      <td>Алматы</td>\n    </tr>\n    <tr>\n      <th>119</th>\n      <td>Здравствуйте. Я хочу заказать цветы в Москву н...</td>\n      <td>Москва</td>\n    </tr>\n  </tbody>\n</table>\n<p>120 rows × 2 columns</p>\n</div>"
     },
     "execution_count": 261,
     "metadata": {},
     "output_type": "execute_result"
    }
   ],
   "source": [
    "test_df"
   ],
   "metadata": {
    "collapsed": false,
    "pycharm": {
     "name": "#%%\n"
    }
   }
  },
  {
   "cell_type": "code",
   "execution_count": 262,
   "outputs": [],
   "source": [
    "test_df.to_csv('data.csv')"
   ],
   "metadata": {
    "collapsed": false,
    "pycharm": {
     "name": "#%%\n"
    }
   }
  },
  {
   "cell_type": "code",
   "execution_count": 263,
   "outputs": [
    {
     "name": "stdout",
     "output_type": "stream",
     "text": [
      "Yes\n"
     ]
    }
   ],
   "source": [
    "string = input()\n",
    "if string == \"\":\n",
    "    print(\"Yes\")"
   ],
   "metadata": {
    "collapsed": false,
    "pycharm": {
     "name": "#%%\n"
    }
   }
  }
 ],
 "metadata": {
  "kernelspec": {
   "display_name": "Python 3",
   "language": "python",
   "name": "python3"
  },
  "language_info": {
   "codemirror_mode": {
    "name": "ipython",
    "version": 2
   },
   "file_extension": ".py",
   "mimetype": "text/x-python",
   "name": "python",
   "nbconvert_exporter": "python",
   "pygments_lexer": "ipython2",
   "version": "2.7.6"
  }
 },
 "nbformat": 4,
 "nbformat_minor": 0
}